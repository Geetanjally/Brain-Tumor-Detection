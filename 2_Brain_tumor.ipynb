{
  "nbformat": 4,
  "nbformat_minor": 0,
  "metadata": {
    "colab": {
      "provenance": [],
      "gpuType": "T4"
    },
    "kernelspec": {
      "name": "python3",
      "display_name": "Python 3"
    },
    "language_info": {
      "name": "python"
    },
    "accelerator": "GPU"
  },
  "cells": [
    {
      "cell_type": "code",
      "source": [
        "from tensorflow import keras"
      ],
      "metadata": {
        "id": "QvOd7VWU04z7"
      },
      "execution_count": null,
      "outputs": []
    },
    {
      "cell_type": "code",
      "source": [
        "# !pip install tensorflow"
      ],
      "metadata": {
        "id": "kLrevcfD6HVY"
      },
      "execution_count": null,
      "outputs": []
    },
    {
      "cell_type": "code",
      "source": [
        "# !pip install keras"
      ],
      "metadata": {
        "id": "SRUaTiYD57XC"
      },
      "execution_count": null,
      "outputs": []
    },
    {
      "cell_type": "code",
      "source": [
        "from keras import layers,models"
      ],
      "metadata": {
        "id": "5wc4358c4i_4"
      },
      "execution_count": null,
      "outputs": []
    },
    {
      "cell_type": "code",
      "source": [
        "import tensorflow as tf\n",
        "\n",
        "train_path = '/content/drive/MyDrive/Dataset/Project Dataset/2_Brain_tumor/Training'\n",
        "test_path = '/content/drive/MyDrive/Dataset/Project Dataset/2_Brain_tumor/Testing'\n",
        "\n",
        "# This function helps you load images directly from a folder structure into a ready-to-use tf.data.Dataset for training.\n",
        "train_df = tf.keras.utils.image_dataset_from_directory(\n",
        "    train_path,\n",
        "    labels='inferred',\n",
        "    label_mode='int',\n",
        "    image_size=(150, 150),\n",
        "    batch_size=32,\n",
        ")\n",
        "\n",
        "test_df = tf.keras.utils.image_dataset_from_directory(\n",
        "    test_path,\n",
        "    labels='inferred',\n",
        "    label_mode=\"int\",\n",
        "    image_size=(150,150),\n",
        "    batch_size=32,\n",
        ")\n",
        "\n",
        "# When using labels='inferred' in image_dataset_from_directory, TensorFlow assigns labels automatically based on folder names.\n",
        "# label_mode = int,binary,categorical ,label_mode tells TensorFlow how to represent the class labels.\n",
        "# batch_size=32 means the dataset will give images in groups of 32 at a time instead of one by one.\n"
      ],
      "metadata": {
        "colab": {
          "base_uri": "https://localhost:8080/"
        },
        "id": "ACWLEhknbmsl",
        "outputId": "f9d5a26a-559b-44cd-ad6e-5e4b2826ff4f"
      },
      "execution_count": null,
      "outputs": [
        {
          "output_type": "stream",
          "name": "stdout",
          "text": [
            "Found 5712 files belonging to 4 classes.\n",
            "Found 1311 files belonging to 4 classes.\n"
          ]
        }
      ]
    },
    {
      "cell_type": "code",
      "source": [
        "# x_train,y_train=[],[]\n",
        "# for img,label in train_df:\n",
        "#   x_train.append(img.numpy()/255.0) #convert it from[0,255] to [0,1] for better model training\n",
        "#   y_train.append(label.numpy())\n",
        "\n",
        "# x_test,y_test=[],[]\n",
        "# for img,label in test_df:\n",
        "#   x_test.append(img.numpy()/255.0)\n",
        "#   y_test.append(label.numpy())"
      ],
      "metadata": {
        "id": "eoT04t__dMcG"
      },
      "execution_count": null,
      "outputs": []
    },
    {
      "cell_type": "code",
      "source": [
        "# When you load dataset with above mentioned way than TensorFlow looks at the subfolder names inside your dataset directory (like cats/, dogs/, horses/).\n",
        "# It stores those names in alphabetical order in train_df.class_names.\n",
        "\n",
        "class_names = train_df.class_names\n",
        "print(f\"Class names: {class_names}\")"
      ],
      "metadata": {
        "colab": {
          "base_uri": "https://localhost:8080/"
        },
        "id": "3zsQ8FFhgivg",
        "outputId": "957db1df-6b11-49d8-fb00-bf8c1c86d4b4"
      },
      "execution_count": null,
      "outputs": [
        {
          "output_type": "stream",
          "name": "stdout",
          "text": [
            "Class names: ['glioma', 'meningioma', 'notumor', 'pituitary']\n"
          ]
        }
      ]
    },
    {
      "cell_type": "code",
      "source": [
        "train_df = train_df.map(lambda x, y: (x/255.0, y))\n",
        "test_df = test_df.map(lambda x, y: (x/255.0, y))\n",
        "# x/255.0 scales them into the range 0–1 (called normalization)\n",
        "# After division → [120/255, 200/255, 50/255] ≈ [0.47, 0.78, 0.20]"
      ],
      "metadata": {
        "id": "8e9FDU0whytx"
      },
      "execution_count": null,
      "outputs": []
    },
    {
      "cell_type": "code",
      "source": [
        "for img, l in train_df.take(1): # .take(n) → gives you the first n batches from the dataset.\n",
        "    print(\"Image shape:\", img.shape)\n",
        "    print(\"Label:\", l.numpy())"
      ],
      "metadata": {
        "colab": {
          "base_uri": "https://localhost:8080/"
        },
        "id": "jSBQmx1x0tla",
        "outputId": "91d3636c-e8d7-42dd-edce-c57eb440667b"
      },
      "execution_count": null,
      "outputs": [
        {
          "output_type": "stream",
          "name": "stdout",
          "text": [
            "Image shape: (32, 150, 150, 3)\n",
            "Label: [3 0 1 1 1 2 2 3 2 2 0 1 1 2 3 2 3 1 1 2 1 2 2 1 2 1 2 3 1 0 0 1]\n"
          ]
        }
      ]
    },
    {
      "cell_type": "code",
      "source": [
        "# import numpy as np\n",
        "# x_train=np.array(x_train)\n",
        "# y_train=np.array(y_train)\n",
        "# x_test=np.array(x_test)\n",
        "# y_test=np.array(y_test)\n",
        "\n",
        "# print(\"x_train_shape,y_train_shape\",x_train.shape(),y_train.shape())\n",
        "# print(\"x_test_shape,y_train_shape\",x_test.shape(),y_test.shape())"
      ],
      "metadata": {
        "id": "Y7QPZ26gfAFE"
      },
      "execution_count": null,
      "outputs": []
    },
    {
      "cell_type": "code",
      "source": [
        "# y_train_r=y_train_reshape(-1)"
      ],
      "metadata": {
        "id": "6U0PhTyU8HBQ"
      },
      "execution_count": null,
      "outputs": []
    },
    {
      "cell_type": "code",
      "source": [
        "import matplotlib.pyplot as plt\n",
        "\n",
        "def plot_s(dataset, index):\n",
        "  for i,(images,labels) in enumerate(dataset.unbatch()):\n",
        "    if i==index:\n",
        "        plt.figure(figsize=(2,2))\n",
        "        plt.imshow(images.numpy())\n",
        "        plt.xlabel(class_names[labels.numpy()])\n",
        "        plt.show()\n",
        "        break"
      ],
      "metadata": {
        "id": "SElv49t88SKx"
      },
      "execution_count": null,
      "outputs": []
    },
    {
      "cell_type": "code",
      "source": [
        "# enumerate() is a built-in Python function that lets you loop through a collection\n",
        "#  (like a list, string, tuple, or dataset) and get index and actual value.\n",
        "fruits = [\"apple\", \"banana\", \"cherry\"]\n",
        "for i, fruit in enumerate(fruits):\n",
        "    print(i, fruit)\n",
        "\n",
        "list(enumerate([\"a\",\"b\",\"c\"]))\n",
        "# First you get index than actual value"
      ],
      "metadata": {
        "colab": {
          "base_uri": "https://localhost:8080/"
        },
        "id": "m1f5ntKAz7bM",
        "outputId": "f9984fa1-b42e-488e-f7cd-4d4bf4445c9f"
      },
      "execution_count": null,
      "outputs": [
        {
          "output_type": "stream",
          "name": "stdout",
          "text": [
            "0 apple\n",
            "1 banana\n",
            "2 cherry\n"
          ]
        },
        {
          "output_type": "execute_result",
          "data": {
            "text/plain": [
              "[(0, 'a'), (1, 'b'), (2, 'c')]"
            ]
          },
          "metadata": {},
          "execution_count": 3
        }
      ]
    },
    {
      "cell_type": "code",
      "source": [
        "# When the loop reaches the image you want (say index 5), it executes the plotting code.\n",
        "# images is a Tensor → .numpy() converts it to a NumPy array (needed for imshow).\n",
        "# class_names[...] converts it to the actual class name (e.g., \"cat\").\n",
        "\n",
        "# enumerate(iterable, start=0) : iterable → list, tuple, string, dataset, generator, etc."
      ],
      "metadata": {
        "id": "yrBIIcMvNtAs"
      },
      "execution_count": null,
      "outputs": []
    },
    {
      "cell_type": "code",
      "source": [
        "plot_s(train_df,200)"
      ],
      "metadata": {
        "id": "Va4Sgw9w8klI",
        "colab": {
          "base_uri": "https://localhost:8080/",
          "height": 239
        },
        "outputId": "4cc1f382-49d8-409e-96a3-606e3abb39d7"
      },
      "execution_count": null,
      "outputs": [
        {
          "output_type": "display_data",
          "data": {
            "text/plain": [
              "<Figure size 200x200 with 1 Axes>"
            ],
            "image/png": "[encoded data removed]"
          },
          "metadata": {}
        }
      ]
    },
    {
      "cell_type": "code",
      "source": [
        "# def plot_s(index):\n",
        "#   plt.figure(figsize=(2,2))\n",
        "#   # plt.imshow(x_train[index])\n",
        "#   plt.imshow(images[5].numpy())\n",
        "#   plt.xlabel(class_names[labels[5].numpy()])\n",
        "#   # plt.xlabel(l[y_train[index]])\n",
        "#   plt.show()"
      ],
      "metadata": {
        "id": "pXLYEAFs9C4J"
      },
      "execution_count": null,
      "outputs": []
    },
    {
      "cell_type": "code",
      "source": [
        "model=keras.Sequential(\n",
        "    [\n",
        "        keras.layers.Conv2D(filters=32,kernel_size=(3,3),activation='relu',input_shape=(150,150,3)),\n",
        "        keras.layers.MaxPooling2D((2,2)),\n",
        "\n",
        "        keras.layers.Conv2D(filters=64,kernel_size=(3,3),activation='relu'),\n",
        "        keras.layers.MaxPooling2D((2,2)),\n",
        "\n",
        "        keras.layers.Conv2D(filters=128,kernel_size=(3,3),activation='relu'),\n",
        "        keras.layers.MaxPooling2D((2,2)),\n",
        "\n",
        "        keras.layers.Conv2D(filters=128,kernel_size=(3,3),activation='relu'),\n",
        "        keras.layers.MaxPooling2D((2,2)),\n",
        "        keras.layers.Flatten(),\n",
        "\n",
        "        keras.layers.Dense(500,activation='relu'),\n",
        "        keras.layers.Dense(400,activation='relu'),\n",
        "        keras.layers.Dense(300,activation='relu'),\n",
        "        keras.layers.Dense(200,activation='relu'),\n",
        "        keras.layers.Dense(100,activation='relu'),\n",
        "        keras.layers.Dense(4,activation='softmax')\n",
        "    ]\n",
        ")"
      ],
      "metadata": {
        "id": "AXIrpEGZ9Hpz",
        "colab": {
          "base_uri": "https://localhost:8080/"
        },
        "outputId": "544fbbbf-988f-46a0-f9e2-58b1ad301fe8"
      },
      "execution_count": null,
      "outputs": [
        {
          "output_type": "stream",
          "name": "stderr",
          "text": [
            "/usr/local/lib/python3.12/dist-packages/keras/src/layers/convolutional/base_conv.py:113: UserWarning: Do not pass an `input_shape`/`input_dim` argument to a layer. When using Sequential models, prefer using an `Input(shape)` object as the first layer in the model instead.\n",
            "  super().__init__(activity_regularizer=activity_regularizer, **kwargs)\n"
          ]
        }
      ]
    },
    {
      "cell_type": "code",
      "source": [
        "model.compile(optimizer=tf.keras.optimizers.Adam(learning_rate=0.0001),loss=\"sparse_categorical_crossentropy\",metrics=[\"accuracy\"])"
      ],
      "metadata": {
        "id": "nCg9HKj_9kfg"
      },
      "execution_count": null,
      "outputs": []
    },
    {
      "cell_type": "code",
      "source": [
        "# EarlyStopping is a callback — it watches the training and can stop it early if conditions are met.\n",
        "# This helps prevent overfitting and saves training time.\n",
        "\n",
        "# restore_best_weights=True\n",
        "# → after stopping, it resets the model’s weights to the best epoch (lowest validation loss)."
      ],
      "metadata": {
        "id": "KG9kmHMB-NSS"
      },
      "execution_count": null,
      "outputs": []
    },
    {
      "cell_type": "code",
      "source": [
        "from tensorflow.keras.callbacks import EarlyStopping\n",
        "\n",
        "early_stop = EarlyStopping(\n",
        "    monitor=\"val_loss\",    # watch validation loss\n",
        "    patience=3,            # stop if no improvement for 3 epochs\n",
        "    restore_best_weights=True\n",
        ")\n",
        "\n",
        "history = model.fit(\n",
        "    train_df,\n",
        "    validation_data=test_df,\n",
        "    epochs=50,             # set a high max\n",
        "    callbacks=[early_stop]\n",
        ")"
      ],
      "metadata": {
        "colab": {
          "base_uri": "https://localhost:8080/"
        },
        "id": "F2aqPjvwYo3a",
        "outputId": "ca06e0f6-0133-4c1b-cba8-ea1c42f9a30a"
      },
      "execution_count": null,
      "outputs": [
        {
          "output_type": "stream",
          "name": "stdout",
          "text": [
            "Epoch 1/50\n",
            "\u001b[1m179/179\u001b[0m \u001b[32m━━━━━━━━━━━━━━━━━━━━\u001b[0m\u001b[37m\u001b[0m \u001b[1m785s\u001b[0m 4s/step - accuracy: 0.4522 - loss: 1.1196 - val_accuracy: 0.6773 - val_loss: 0.8390\n",
            "Epoch 2/50\n",
            "\u001b[1m179/179\u001b[0m \u001b[32m━━━━━━━━━━━━━━━━━━━━\u001b[0m\u001b[37m\u001b[0m \u001b[1m41s\u001b[0m 124ms/step - accuracy: 0.7500 - loss: 0.6201 - val_accuracy: 0.7574 - val_loss: 0.5998\n",
            "Epoch 3/50\n",
            "\u001b[1m179/179\u001b[0m \u001b[32m━━━━━━━━━━━━━━━━━━━━\u001b[0m\u001b[37m\u001b[0m \u001b[1m42s\u001b[0m 129ms/step - accuracy: 0.8071 - loss: 0.4944 - val_accuracy: 0.8162 - val_loss: 0.4388\n",
            "Epoch 4/50\n",
            "\u001b[1m179/179\u001b[0m \u001b[32m━━━━━━━━━━━━━━━━━━━━\u001b[0m\u001b[37m\u001b[0m \u001b[1m21s\u001b[0m 119ms/step - accuracy: 0.8657 - loss: 0.3650 - val_accuracy: 0.8322 - val_loss: 0.4355\n",
            "Epoch 5/50\n",
            "\u001b[1m179/179\u001b[0m \u001b[32m━━━━━━━━━━━━━━━━━━━━\u001b[0m\u001b[37m\u001b[0m \u001b[1m24s\u001b[0m 132ms/step - accuracy: 0.8847 - loss: 0.3104 - val_accuracy: 0.8658 - val_loss: 0.3147\n",
            "Epoch 6/50\n",
            "\u001b[1m179/179\u001b[0m \u001b[32m━━━━━━━━━━━━━━━━━━━━\u001b[0m\u001b[37m\u001b[0m \u001b[1m38s\u001b[0m 113ms/step - accuracy: 0.9171 - loss: 0.2278 - val_accuracy: 0.8955 - val_loss: 0.2610\n",
            "Epoch 7/50\n",
            "\u001b[1m179/179\u001b[0m \u001b[32m━━━━━━━━━━━━━━━━━━━━\u001b[0m\u001b[37m\u001b[0m \u001b[1m21s\u001b[0m 119ms/step - accuracy: 0.9158 - loss: 0.2195 - val_accuracy: 0.9100 - val_loss: 0.2247\n",
            "Epoch 8/50\n",
            "\u001b[1m179/179\u001b[0m \u001b[32m━━━━━━━━━━━━━━━━━━━━\u001b[0m\u001b[37m\u001b[0m \u001b[1m22s\u001b[0m 124ms/step - accuracy: 0.9399 - loss: 0.1674 - val_accuracy: 0.9291 - val_loss: 0.1943\n",
            "Epoch 9/50\n",
            "\u001b[1m179/179\u001b[0m \u001b[32m━━━━━━━━━━━━━━━━━━━━\u001b[0m\u001b[37m\u001b[0m \u001b[1m22s\u001b[0m 124ms/step - accuracy: 0.9587 - loss: 0.1246 - val_accuracy: 0.9336 - val_loss: 0.1720\n",
            "Epoch 10/50\n",
            "\u001b[1m179/179\u001b[0m \u001b[32m━━━━━━━━━━━━━━━━━━━━\u001b[0m\u001b[37m\u001b[0m \u001b[1m23s\u001b[0m 126ms/step - accuracy: 0.9635 - loss: 0.1018 - val_accuracy: 0.9268 - val_loss: 0.2014\n",
            "Epoch 11/50\n",
            "\u001b[1m179/179\u001b[0m \u001b[32m━━━━━━━━━━━━━━━━━━━━\u001b[0m\u001b[37m\u001b[0m \u001b[1m22s\u001b[0m 124ms/step - accuracy: 0.9716 - loss: 0.0813 - val_accuracy: 0.9573 - val_loss: 0.1368\n",
            "Epoch 12/50\n",
            "\u001b[1m179/179\u001b[0m \u001b[32m━━━━━━━━━━━━━━━━━━━━\u001b[0m\u001b[37m\u001b[0m \u001b[1m21s\u001b[0m 119ms/step - accuracy: 0.9815 - loss: 0.0591 - val_accuracy: 0.9649 - val_loss: 0.1078\n",
            "Epoch 13/50\n",
            "\u001b[1m179/179\u001b[0m \u001b[32m━━━━━━━━━━━━━━━━━━━━\u001b[0m\u001b[37m\u001b[0m \u001b[1m22s\u001b[0m 121ms/step - accuracy: 0.9801 - loss: 0.0615 - val_accuracy: 0.9580 - val_loss: 0.1252\n",
            "Epoch 14/50\n",
            "\u001b[1m179/179\u001b[0m \u001b[32m━━━━━━━━━━━━━━━━━━━━\u001b[0m\u001b[37m\u001b[0m \u001b[1m23s\u001b[0m 126ms/step - accuracy: 0.9847 - loss: 0.0441 - val_accuracy: 0.9733 - val_loss: 0.0991\n",
            "Epoch 15/50\n",
            "\u001b[1m179/179\u001b[0m \u001b[32m━━━━━━━━━━━━━━━━━━━━\u001b[0m\u001b[37m\u001b[0m \u001b[1m22s\u001b[0m 120ms/step - accuracy: 0.9892 - loss: 0.0330 - val_accuracy: 0.9680 - val_loss: 0.1044\n",
            "Epoch 16/50\n",
            "\u001b[1m179/179\u001b[0m \u001b[32m━━━━━━━━━━━━━━━━━━━━\u001b[0m\u001b[37m\u001b[0m \u001b[1m22s\u001b[0m 124ms/step - accuracy: 0.9935 - loss: 0.0236 - val_accuracy: 0.9680 - val_loss: 0.1093\n",
            "Epoch 17/50\n",
            "\u001b[1m179/179\u001b[0m \u001b[32m━━━━━━━━━━━━━━━━━━━━\u001b[0m\u001b[37m\u001b[0m \u001b[1m23s\u001b[0m 130ms/step - accuracy: 0.9879 - loss: 0.0373 - val_accuracy: 0.9741 - val_loss: 0.1005\n"
          ]
        }
      ]
    },
    {
      "cell_type": "code",
      "source": [
        "# model.fit(train_df,validation_data=test_df,epochs=30)"
      ],
      "metadata": {
        "id": "SlFVEf5l96VB"
      },
      "execution_count": null,
      "outputs": []
    },
    {
      "cell_type": "code",
      "source": [
        "y_pred=model.predict(test_df)"
      ],
      "metadata": {
        "id": "TQMdn_Kh-K1_",
        "colab": {
          "base_uri": "https://localhost:8080/"
        },
        "outputId": "3265648f-ca0c-4038-dd7f-aa1a4f7470a0"
      },
      "execution_count": null,
      "outputs": [
        {
          "output_type": "stream",
          "name": "stdout",
          "text": [
            "\u001b[1m41/41\u001b[0m \u001b[32m━━━━━━━━━━━━━━━━━━━━\u001b[0m\u001b[37m\u001b[0m \u001b[1m4s\u001b[0m 87ms/step\n"
          ]
        }
      ]
    },
    {
      "cell_type": "code",
      "source": [
        "y_pred[1000]"
      ],
      "metadata": {
        "id": "qx8IwhHL-gro",
        "colab": {
          "base_uri": "https://localhost:8080/"
        },
        "outputId": "6c882e50-1acb-4a3c-b5ed-856477183d70"
      },
      "execution_count": null,
      "outputs": [
        {
          "output_type": "execute_result",
          "data": {
            "text/plain": [
              "array([9.9883062e-01, 1.0764647e-03, 3.1791347e-05, 6.1070561e-05],\n",
              "      dtype=float32)"
            ]
          },
          "metadata": {},
          "execution_count": 27
        }
      ]
    },
    {
      "cell_type": "code",
      "source": [
        "y_pred[1000].argmax()"
      ],
      "metadata": {
        "id": "btt68CZl-j-e",
        "colab": {
          "base_uri": "https://localhost:8080/"
        },
        "outputId": "b67d4287-e22a-4788-9dea-23fc9dc5b138"
      },
      "execution_count": null,
      "outputs": [
        {
          "output_type": "execute_result",
          "data": {
            "text/plain": [
              "np.int64(0)"
            ]
          },
          "metadata": {},
          "execution_count": 28
        }
      ]
    },
    {
      "cell_type": "code",
      "source": [
        "# def plot_s(index):\n",
        "#   plt.figure(figsize=(2,2))\n",
        "#   plt.imshow(x_test[index])\n",
        "#   plt.xlabel(l[y_pred(index).argmax()])\n",
        "#   plt.show()"
      ],
      "metadata": {
        "id": "9NtblJGF-ni2"
      },
      "execution_count": null,
      "outputs": []
    },
    {
      "cell_type": "code",
      "source": [
        "plot_s(test_df,1000)"
      ],
      "metadata": {
        "id": "TE92bBFsKsy6",
        "colab": {
          "base_uri": "https://localhost:8080/",
          "height": 239
        },
        "outputId": "50509576-355e-4601-f7f6-d61bd7d7f1a4"
      },
      "execution_count": null,
      "outputs": [
        {
          "output_type": "display_data",
          "data": {
            "text/plain": [
              "<Figure size 200x200 with 1 Axes>"
            ],
            "image/png": "[encoded data removed]"
          },
          "metadata": {}
        }
      ]
    },
    {
      "cell_type": "code",
      "source": [
        "# Save as .h5 file\n",
        "model.save(\"brain_tumor.keras\")"
      ],
      "metadata": {
        "id": "qoEdP2mKjOxL"
      },
      "execution_count": null,
      "outputs": []
    },
    {
      "cell_type": "code",
      "source": [
        "from google.colab import files\n",
        "\n",
        "# Download .h5 file\n",
        "files.download(\"brain_tumor.keras\")"
      ],
      "metadata": {
        "colab": {
          "base_uri": "https://localhost:8080/",
          "height": 17
        },
        "id": "Nb3RWaQb6c-9",
        "outputId": "cf505234-aea0-42b2-8e1b-9b8d0a26e1f3"
      },
      "execution_count": null,
      "outputs": [
        {
          "output_type": "display_data",
          "data": {
            "text/plain": [
              "<IPython.core.display.Javascript object>"
            ],
            "application/javascript": [
              "\n",
              "    async function download(id, filename, size) {\n",
              "      if (!google.colab.kernel.accessAllowed) {\n",
              "        return;\n",
              "      }\n",
              "      const div = document.createElement('div');\n",
              "      const label = document.createElement('label');\n",
              "      label.textContent = `Downloading \"${filename}\": `;\n",
              "      div.appendChild(label);\n",
              "      const progress = document.createElement('progress');\n",
              "      progress.max = size;\n",
              "      div.appendChild(progress);\n",
              "      document.body.appendChild(div);\n",
              "\n",
              "      const buffers = [];\n",
              "      let downloaded = 0;\n",
              "\n",
              "      const channel = await google.colab.kernel.comms.open(id);\n",
              "      // Send a message to notify the kernel that we're ready.\n",
              "      channel.send({})\n",
              "\n",
              "      for await (const message of channel.messages) {\n",
              "        // Send a message to notify the kernel that we're ready.\n",
              "        channel.send({})\n",
              "        if (message.buffers) {\n",
              "          for (const buffer of message.buffers) {\n",
              "            buffers.push(buffer);\n",
              "            downloaded += buffer.byteLength;\n",
              "            progress.value = downloaded;\n",
              "          }\n",
              "        }\n",
              "      }\n",
              "      const blob = new Blob(buffers, {type: 'application/binary'});\n",
              "      const a = document.createElement('a');\n",
              "      a.href = window.URL.createObjectURL(blob);\n",
              "      a.download = filename;\n",
              "      div.appendChild(a);\n",
              "      a.click();\n",
              "      div.remove();\n",
              "    }\n",
              "  "
            ]
          },
          "metadata": {}
        },
        {
          "output_type": "display_data",
          "data": {
            "text/plain": [
              "<IPython.core.display.Javascript object>"
            ],
            "application/javascript": [
              "download(\"download_b8e39b25-9be4-4a40-8006-a139705b7d74\", \"brain_tumor.keras\", 45418058)"
            ]
          },
          "metadata": {}
        }
      ]
    },
    {
      "cell_type": "code",
      "source": [
        "print(model.input_shape)\n"
      ],
      "metadata": {
        "colab": {
          "base_uri": "https://localhost:8080/"
        },
        "id": "FpcLdeNL_XqX",
        "outputId": "7594f731-3125-4bd0-98eb-87e44a008fe1"
      },
      "execution_count": null,
      "outputs": [
        {
          "output_type": "stream",
          "name": "stdout",
          "text": [
            "(None, 150, 150, 3)\n"
          ]
        }
      ]
    },
    {
      "cell_type": "code",
      "source": [],
      "metadata": {
        "id": "N0_bzWeUDG1E"
      },
      "execution_count": null,
      "outputs": []
    }
  ]
}